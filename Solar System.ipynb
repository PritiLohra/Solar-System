{
 "cells": [
  {
   "cell_type": "code",
   "execution_count": 2,
   "id": "058ed000",
   "metadata": {},
   "outputs": [],
   "source": [
    "import turtle\n",
    "import math\n",
    "from math import *"
   ]
  },
  {
   "cell_type": "code",
   "execution_count": 3,
   "id": "e3bf2913",
   "metadata": {},
   "outputs": [],
   "source": [
    "screen = turtle.Screen()#creating the screen\n",
    "screen.tracer(50)"
   ]
  },
  {
   "cell_type": "code",
   "execution_count": 4,
   "id": "9335cfc3",
   "metadata": {},
   "outputs": [],
   "source": [
    "#CREATING THE SUN\n",
    "sun = turtle.Turtle()#turtle object for sun\n",
    "sun.shape('circle')#shape of sun\n",
    "sun.color('yellow')#color of sun"
   ]
  },
  {
   "cell_type": "code",
   "execution_count": 5,
   "id": "77050690",
   "metadata": {},
   "outputs": [],
   "source": [
    "#CREATING THE PLANETS\n",
    "class Planet(turtle.Turtle):\n",
    "    def __init__(self,name,radius, color):#initialize function\n",
    "        super().__init__(shape='circle')\n",
    "        self.name = name\n",
    "        self.radius = radius\n",
    "        self.c = color\n",
    "        self.color(self.c)\n",
    "        self.up()\n",
    "        self.pd()\n",
    "        self.angle = 0\n",
    "    def move(self):\n",
    "        x = self.radius*cos(self.angle) # Angle in radians\n",
    "        y = self.radius*sin(self.angle)\n",
    " \n",
    "        self.goto(sun.xcor()+x,sun.ycor()+y)"
   ]
  },
  {
   "cell_type": "code",
   "execution_count": null,
   "id": "58f90dd3",
   "metadata": {},
   "outputs": [],
   "source": [
    "#CHANGING THE ANGLES AND ADDING THE PLANETS\n",
    "\n",
    "mercury = Planet(\"Mercury\",40, 'grey')\n",
    "venus = Planet(\"Venus\",80, 'orange')\n",
    "earth=Planet(\"Earth\",100,'blue')\n",
    "mars = Planet(\"Mars\",150, 'red')\n",
    "jupiter=Planet(\"Jupiter\",180, 'brown')\n",
    "saturn=Planet(\"Saturn\",230, 'pink')\n",
    "uranus=Planet(\"Uranus\",250, 'light blue')\n",
    "neptune=Planet(\"Neptune\",280, 'black')\n",
    " \n",
    "#adding planets to a list\n",
    "myList = [ mercury, venus,earth, mars,jupiter,saturn,uranus,neptune]\n",
    " \n",
    " \n",
    "while True:#while statement\n",
    "    screen.update()#updating the screen\n",
    "    for i in myList:\n",
    "        i.move()#moving the elements of the list\n",
    " \n",
    "    # Increase the angle by 0.0x radians\n",
    "   \n",
    "    mercury.angle += 0.05\n",
    "    venus.angle += 0.03\n",
    "    earth.angle += 0.01\n",
    "    mars.angle += 0.007\n",
    "    jupiter.angle += 0.02\n",
    "    saturn.angle += 0.018\n",
    "    uranus.angle += 0.016\n",
    "    neptune.angle += 0.005"
   ]
  },
  {
   "cell_type": "code",
   "execution_count": null,
   "id": "bdbb27d1",
   "metadata": {},
   "outputs": [],
   "source": []
  }
 ],
 "metadata": {
  "kernelspec": {
   "display_name": "Python 3 (ipykernel)",
   "language": "python",
   "name": "python3"
  },
  "language_info": {
   "codemirror_mode": {
    "name": "ipython",
    "version": 3
   },
   "file_extension": ".py",
   "mimetype": "text/x-python",
   "name": "python",
   "nbconvert_exporter": "python",
   "pygments_lexer": "ipython3",
   "version": "3.11.3"
  }
 },
 "nbformat": 4,
 "nbformat_minor": 5
}
